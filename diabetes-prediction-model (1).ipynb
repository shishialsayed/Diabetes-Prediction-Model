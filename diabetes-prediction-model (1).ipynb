{
 "cells": [
  {
   "cell_type": "code",
   "execution_count": 1,
   "id": "731e0d85",
   "metadata": {
    "execution": {
     "iopub.execute_input": "2022-12-24T18:33:33.423763Z",
     "iopub.status.busy": "2022-12-24T18:33:33.423144Z",
     "iopub.status.idle": "2022-12-24T18:33:33.435286Z",
     "shell.execute_reply": "2022-12-24T18:33:33.434369Z"
    },
    "papermill": {
     "duration": 0.028518,
     "end_time": "2022-12-24T18:33:33.437696",
     "exception": false,
     "start_time": "2022-12-24T18:33:33.409178",
     "status": "completed"
    },
    "tags": []
   },
   "outputs": [],
   "source": [
    "Adress=\"/kaggle/input/diabetes-dataset/diabetes.csv\""
   ]
  },
  {
   "cell_type": "code",
   "execution_count": 2,
   "id": "8c1ac571",
   "metadata": {
    "execution": {
     "iopub.execute_input": "2022-12-24T18:33:33.462423Z",
     "iopub.status.busy": "2022-12-24T18:33:33.462017Z",
     "iopub.status.idle": "2022-12-24T18:33:34.678136Z",
     "shell.execute_reply": "2022-12-24T18:33:34.676920Z"
    },
    "papermill": {
     "duration": 1.232592,
     "end_time": "2022-12-24T18:33:34.681022",
     "exception": false,
     "start_time": "2022-12-24T18:33:33.448430",
     "status": "completed"
    },
    "tags": []
   },
   "outputs": [],
   "source": [
    "#importing of modules\n",
    "import pandas as pd\n",
    "import seaborn as sns\n",
    "import matplotlib.pyplot as plt\n",
    "pd.plotting.register_matplotlib_converters()\n"
   ]
  },
  {
   "cell_type": "code",
   "execution_count": 3,
   "id": "b0628e11",
   "metadata": {
    "execution": {
     "iopub.execute_input": "2022-12-24T18:33:34.705890Z",
     "iopub.status.busy": "2022-12-24T18:33:34.705504Z",
     "iopub.status.idle": "2022-12-24T18:33:34.729614Z",
     "shell.execute_reply": "2022-12-24T18:33:34.728495Z"
    },
    "papermill": {
     "duration": 0.038912,
     "end_time": "2022-12-24T18:33:34.732522",
     "exception": false,
     "start_time": "2022-12-24T18:33:34.693610",
     "status": "completed"
    },
    "tags": []
   },
   "outputs": [],
   "source": [
    "#load of data\n",
    "df = pd.read_csv(\"/kaggle/input/diabetes-dataset/diabetes.csv\")"
   ]
  },
  {
   "cell_type": "markdown",
   "id": "a2fe8c2f",
   "metadata": {
    "papermill": {
     "duration": 0.010763,
     "end_time": "2022-12-24T18:33:34.754010",
     "exception": false,
     "start_time": "2022-12-24T18:33:34.743247",
     "status": "completed"
    },
    "tags": []
   },
   "source": [
    "# Exploratory and preprocessing of data"
   ]
  },
  {
   "cell_type": "code",
   "execution_count": 4,
   "id": "286a1ef3",
   "metadata": {
    "execution": {
     "iopub.execute_input": "2022-12-24T18:33:34.777223Z",
     "iopub.status.busy": "2022-12-24T18:33:34.776805Z",
     "iopub.status.idle": "2022-12-24T18:33:34.801881Z",
     "shell.execute_reply": "2022-12-24T18:33:34.800626Z"
    },
    "papermill": {
     "duration": 0.040039,
     "end_time": "2022-12-24T18:33:34.804754",
     "exception": false,
     "start_time": "2022-12-24T18:33:34.764715",
     "status": "completed"
    },
    "tags": []
   },
   "outputs": [
    {
     "data": {
      "text/html": [
       "<div>\n",
       "<style scoped>\n",
       "    .dataframe tbody tr th:only-of-type {\n",
       "        vertical-align: middle;\n",
       "    }\n",
       "\n",
       "    .dataframe tbody tr th {\n",
       "        vertical-align: top;\n",
       "    }\n",
       "\n",
       "    .dataframe thead th {\n",
       "        text-align: right;\n",
       "    }\n",
       "</style>\n",
       "<table border=\"1\" class=\"dataframe\">\n",
       "  <thead>\n",
       "    <tr style=\"text-align: right;\">\n",
       "      <th></th>\n",
       "      <th>Pregnancies</th>\n",
       "      <th>Glucose</th>\n",
       "      <th>BloodPressure</th>\n",
       "      <th>SkinThickness</th>\n",
       "      <th>Insulin</th>\n",
       "      <th>BMI</th>\n",
       "      <th>DiabetesPedigreeFunction</th>\n",
       "      <th>Age</th>\n",
       "      <th>Outcome</th>\n",
       "    </tr>\n",
       "  </thead>\n",
       "  <tbody>\n",
       "    <tr>\n",
       "      <th>0</th>\n",
       "      <td>6</td>\n",
       "      <td>148</td>\n",
       "      <td>72</td>\n",
       "      <td>35</td>\n",
       "      <td>0</td>\n",
       "      <td>33.6</td>\n",
       "      <td>0.627</td>\n",
       "      <td>50</td>\n",
       "      <td>1</td>\n",
       "    </tr>\n",
       "    <tr>\n",
       "      <th>1</th>\n",
       "      <td>1</td>\n",
       "      <td>85</td>\n",
       "      <td>66</td>\n",
       "      <td>29</td>\n",
       "      <td>0</td>\n",
       "      <td>26.6</td>\n",
       "      <td>0.351</td>\n",
       "      <td>31</td>\n",
       "      <td>0</td>\n",
       "    </tr>\n",
       "    <tr>\n",
       "      <th>2</th>\n",
       "      <td>8</td>\n",
       "      <td>183</td>\n",
       "      <td>64</td>\n",
       "      <td>0</td>\n",
       "      <td>0</td>\n",
       "      <td>23.3</td>\n",
       "      <td>0.672</td>\n",
       "      <td>32</td>\n",
       "      <td>1</td>\n",
       "    </tr>\n",
       "    <tr>\n",
       "      <th>3</th>\n",
       "      <td>1</td>\n",
       "      <td>89</td>\n",
       "      <td>66</td>\n",
       "      <td>23</td>\n",
       "      <td>94</td>\n",
       "      <td>28.1</td>\n",
       "      <td>0.167</td>\n",
       "      <td>21</td>\n",
       "      <td>0</td>\n",
       "    </tr>\n",
       "    <tr>\n",
       "      <th>4</th>\n",
       "      <td>0</td>\n",
       "      <td>137</td>\n",
       "      <td>40</td>\n",
       "      <td>35</td>\n",
       "      <td>168</td>\n",
       "      <td>43.1</td>\n",
       "      <td>2.288</td>\n",
       "      <td>33</td>\n",
       "      <td>1</td>\n",
       "    </tr>\n",
       "  </tbody>\n",
       "</table>\n",
       "</div>"
      ],
      "text/plain": [
       "   Pregnancies  Glucose  BloodPressure  SkinThickness  Insulin   BMI  \\\n",
       "0            6      148             72             35        0  33.6   \n",
       "1            1       85             66             29        0  26.6   \n",
       "2            8      183             64              0        0  23.3   \n",
       "3            1       89             66             23       94  28.1   \n",
       "4            0      137             40             35      168  43.1   \n",
       "\n",
       "   DiabetesPedigreeFunction  Age  Outcome  \n",
       "0                     0.627   50        1  \n",
       "1                     0.351   31        0  \n",
       "2                     0.672   32        1  \n",
       "3                     0.167   21        0  \n",
       "4                     2.288   33        1  "
      ]
     },
     "execution_count": 4,
     "metadata": {},
     "output_type": "execute_result"
    }
   ],
   "source": [
    "df.head()"
   ]
  },
  {
   "cell_type": "markdown",
   "id": "3b781c8e",
   "metadata": {
    "papermill": {
     "duration": 0.011354,
     "end_time": "2022-12-24T18:33:34.827436",
     "exception": false,
     "start_time": "2022-12-24T18:33:34.816082",
     "status": "completed"
    },
    "tags": []
   },
   "source": [
    "## Definition of columns:\n",
    "#### Pregnancies: number of pregnancies\n",
    "#### Glucose: glucose blood level\n",
    "#### Insulin: insulin blood level\n",
    "#### BMI: body mass index\n",
    "#### DiabtesPedigreeFunction: function that scores the likelihood of diabetes based on family history.\n",
    "#### Outcome: diabetic (1) or not (0)"
   ]
  },
  {
   "cell_type": "code",
   "execution_count": 5,
   "id": "59b26ddf",
   "metadata": {
    "execution": {
     "iopub.execute_input": "2022-12-24T18:33:34.851548Z",
     "iopub.status.busy": "2022-12-24T18:33:34.851162Z",
     "iopub.status.idle": "2022-12-24T18:33:34.860301Z",
     "shell.execute_reply": "2022-12-24T18:33:34.859115Z"
    },
    "papermill": {
     "duration": 0.024419,
     "end_time": "2022-12-24T18:33:34.862996",
     "exception": false,
     "start_time": "2022-12-24T18:33:34.838577",
     "status": "completed"
    },
    "tags": []
   },
   "outputs": [
    {
     "data": {
      "text/plain": [
       "Pregnancies                 0\n",
       "Glucose                     0\n",
       "BloodPressure               0\n",
       "SkinThickness               0\n",
       "Insulin                     0\n",
       "BMI                         0\n",
       "DiabetesPedigreeFunction    0\n",
       "Age                         0\n",
       "Outcome                     0\n",
       "dtype: int64"
      ]
     },
     "execution_count": 5,
     "metadata": {},
     "output_type": "execute_result"
    }
   ],
   "source": [
    "df.isnull().sum()"
   ]
  },
  {
   "cell_type": "code",
   "execution_count": 6,
   "id": "77f5c76b",
   "metadata": {
    "execution": {
     "iopub.execute_input": "2022-12-24T18:33:34.887790Z",
     "iopub.status.busy": "2022-12-24T18:33:34.887351Z",
     "iopub.status.idle": "2022-12-24T18:33:34.906366Z",
     "shell.execute_reply": "2022-12-24T18:33:34.905084Z"
    },
    "papermill": {
     "duration": 0.034093,
     "end_time": "2022-12-24T18:33:34.908692",
     "exception": false,
     "start_time": "2022-12-24T18:33:34.874599",
     "status": "completed"
    },
    "tags": []
   },
   "outputs": [
    {
     "data": {
      "text/plain": [
       "0"
      ]
     },
     "execution_count": 6,
     "metadata": {},
     "output_type": "execute_result"
    }
   ],
   "source": [
    "df.duplicated().sum()"
   ]
  },
  {
   "cell_type": "code",
   "execution_count": 7,
   "id": "0f00f6b3",
   "metadata": {
    "execution": {
     "iopub.execute_input": "2022-12-24T18:33:34.933321Z",
     "iopub.status.busy": "2022-12-24T18:33:34.932931Z",
     "iopub.status.idle": "2022-12-24T18:33:34.954165Z",
     "shell.execute_reply": "2022-12-24T18:33:34.952930Z"
    },
    "papermill": {
     "duration": 0.037235,
     "end_time": "2022-12-24T18:33:34.957099",
     "exception": false,
     "start_time": "2022-12-24T18:33:34.919864",
     "status": "completed"
    },
    "tags": []
   },
   "outputs": [
    {
     "name": "stdout",
     "output_type": "stream",
     "text": [
      "<class 'pandas.core.frame.DataFrame'>\n",
      "RangeIndex: 768 entries, 0 to 767\n",
      "Data columns (total 9 columns):\n",
      " #   Column                    Non-Null Count  Dtype  \n",
      "---  ------                    --------------  -----  \n",
      " 0   Pregnancies               768 non-null    int64  \n",
      " 1   Glucose                   768 non-null    int64  \n",
      " 2   BloodPressure             768 non-null    int64  \n",
      " 3   SkinThickness             768 non-null    int64  \n",
      " 4   Insulin                   768 non-null    int64  \n",
      " 5   BMI                       768 non-null    float64\n",
      " 6   DiabetesPedigreeFunction  768 non-null    float64\n",
      " 7   Age                       768 non-null    int64  \n",
      " 8   Outcome                   768 non-null    int64  \n",
      "dtypes: float64(2), int64(7)\n",
      "memory usage: 54.1 KB\n"
     ]
    }
   ],
   "source": [
    "df.info()"
   ]
  },
  {
   "cell_type": "markdown",
   "id": "9b576ab0",
   "metadata": {
    "papermill": {
     "duration": 0.010869,
     "end_time": "2022-12-24T18:33:34.979082",
     "exception": false,
     "start_time": "2022-12-24T18:33:34.968213",
     "status": "completed"
    },
    "tags": []
   },
   "source": [
    "## NOTE:\n",
    "#### Normal fasting blood glucose level = 70-100mg/dl\n",
    "#### Normal fasting blood insulin level = < 25 mIU/L \n",
    "#### Normal blood pressure = between 120/80mm Hg amd 140/90 mm Hg"
   ]
  },
  {
   "cell_type": "code",
   "execution_count": 8,
   "id": "f237ef5d",
   "metadata": {
    "execution": {
     "iopub.execute_input": "2022-12-24T18:33:35.003176Z",
     "iopub.status.busy": "2022-12-24T18:33:35.002783Z",
     "iopub.status.idle": "2022-12-24T18:33:35.010036Z",
     "shell.execute_reply": "2022-12-24T18:33:35.008946Z"
    },
    "papermill": {
     "duration": 0.022072,
     "end_time": "2022-12-24T18:33:35.012274",
     "exception": false,
     "start_time": "2022-12-24T18:33:34.990202",
     "status": "completed"
    },
    "tags": []
   },
   "outputs": [
    {
     "data": {
      "text/plain": [
       "(768, 9)"
      ]
     },
     "execution_count": 8,
     "metadata": {},
     "output_type": "execute_result"
    }
   ],
   "source": [
    "df.shape"
   ]
  },
  {
   "cell_type": "markdown",
   "id": "e6f915f5",
   "metadata": {
    "papermill": {
     "duration": 0.011531,
     "end_time": "2022-12-24T18:33:35.035178",
     "exception": false,
     "start_time": "2022-12-24T18:33:35.023647",
     "status": "completed"
    },
    "tags": []
   },
   "source": [
    "# Analysis of data"
   ]
  },
  {
   "cell_type": "code",
   "execution_count": 9,
   "id": "e4781ded",
   "metadata": {
    "execution": {
     "iopub.execute_input": "2022-12-24T18:33:35.059680Z",
     "iopub.status.busy": "2022-12-24T18:33:35.059295Z",
     "iopub.status.idle": "2022-12-24T18:33:35.099296Z",
     "shell.execute_reply": "2022-12-24T18:33:35.098321Z"
    },
    "papermill": {
     "duration": 0.055352,
     "end_time": "2022-12-24T18:33:35.101799",
     "exception": false,
     "start_time": "2022-12-24T18:33:35.046447",
     "status": "completed"
    },
    "tags": []
   },
   "outputs": [
    {
     "data": {
      "text/html": [
       "<div>\n",
       "<style scoped>\n",
       "    .dataframe tbody tr th:only-of-type {\n",
       "        vertical-align: middle;\n",
       "    }\n",
       "\n",
       "    .dataframe tbody tr th {\n",
       "        vertical-align: top;\n",
       "    }\n",
       "\n",
       "    .dataframe thead th {\n",
       "        text-align: right;\n",
       "    }\n",
       "</style>\n",
       "<table border=\"1\" class=\"dataframe\">\n",
       "  <thead>\n",
       "    <tr style=\"text-align: right;\">\n",
       "      <th></th>\n",
       "      <th>Pregnancies</th>\n",
       "      <th>Glucose</th>\n",
       "      <th>BloodPressure</th>\n",
       "      <th>SkinThickness</th>\n",
       "      <th>Insulin</th>\n",
       "      <th>BMI</th>\n",
       "      <th>DiabetesPedigreeFunction</th>\n",
       "      <th>Age</th>\n",
       "      <th>Outcome</th>\n",
       "    </tr>\n",
       "  </thead>\n",
       "  <tbody>\n",
       "    <tr>\n",
       "      <th>count</th>\n",
       "      <td>768.000000</td>\n",
       "      <td>768.000000</td>\n",
       "      <td>768.000000</td>\n",
       "      <td>768.000000</td>\n",
       "      <td>768.000000</td>\n",
       "      <td>768.000000</td>\n",
       "      <td>768.000000</td>\n",
       "      <td>768.000000</td>\n",
       "      <td>768.000000</td>\n",
       "    </tr>\n",
       "    <tr>\n",
       "      <th>mean</th>\n",
       "      <td>3.845052</td>\n",
       "      <td>120.894531</td>\n",
       "      <td>69.105469</td>\n",
       "      <td>20.536458</td>\n",
       "      <td>79.799479</td>\n",
       "      <td>31.992578</td>\n",
       "      <td>0.471876</td>\n",
       "      <td>33.240885</td>\n",
       "      <td>0.348958</td>\n",
       "    </tr>\n",
       "    <tr>\n",
       "      <th>std</th>\n",
       "      <td>3.369578</td>\n",
       "      <td>31.972618</td>\n",
       "      <td>19.355807</td>\n",
       "      <td>15.952218</td>\n",
       "      <td>115.244002</td>\n",
       "      <td>7.884160</td>\n",
       "      <td>0.331329</td>\n",
       "      <td>11.760232</td>\n",
       "      <td>0.476951</td>\n",
       "    </tr>\n",
       "    <tr>\n",
       "      <th>min</th>\n",
       "      <td>0.000000</td>\n",
       "      <td>0.000000</td>\n",
       "      <td>0.000000</td>\n",
       "      <td>0.000000</td>\n",
       "      <td>0.000000</td>\n",
       "      <td>0.000000</td>\n",
       "      <td>0.078000</td>\n",
       "      <td>21.000000</td>\n",
       "      <td>0.000000</td>\n",
       "    </tr>\n",
       "    <tr>\n",
       "      <th>25%</th>\n",
       "      <td>1.000000</td>\n",
       "      <td>99.000000</td>\n",
       "      <td>62.000000</td>\n",
       "      <td>0.000000</td>\n",
       "      <td>0.000000</td>\n",
       "      <td>27.300000</td>\n",
       "      <td>0.243750</td>\n",
       "      <td>24.000000</td>\n",
       "      <td>0.000000</td>\n",
       "    </tr>\n",
       "    <tr>\n",
       "      <th>50%</th>\n",
       "      <td>3.000000</td>\n",
       "      <td>117.000000</td>\n",
       "      <td>72.000000</td>\n",
       "      <td>23.000000</td>\n",
       "      <td>30.500000</td>\n",
       "      <td>32.000000</td>\n",
       "      <td>0.372500</td>\n",
       "      <td>29.000000</td>\n",
       "      <td>0.000000</td>\n",
       "    </tr>\n",
       "    <tr>\n",
       "      <th>75%</th>\n",
       "      <td>6.000000</td>\n",
       "      <td>140.250000</td>\n",
       "      <td>80.000000</td>\n",
       "      <td>32.000000</td>\n",
       "      <td>127.250000</td>\n",
       "      <td>36.600000</td>\n",
       "      <td>0.626250</td>\n",
       "      <td>41.000000</td>\n",
       "      <td>1.000000</td>\n",
       "    </tr>\n",
       "    <tr>\n",
       "      <th>max</th>\n",
       "      <td>17.000000</td>\n",
       "      <td>199.000000</td>\n",
       "      <td>122.000000</td>\n",
       "      <td>99.000000</td>\n",
       "      <td>846.000000</td>\n",
       "      <td>67.100000</td>\n",
       "      <td>2.420000</td>\n",
       "      <td>81.000000</td>\n",
       "      <td>1.000000</td>\n",
       "    </tr>\n",
       "  </tbody>\n",
       "</table>\n",
       "</div>"
      ],
      "text/plain": [
       "       Pregnancies     Glucose  BloodPressure  SkinThickness     Insulin  \\\n",
       "count   768.000000  768.000000     768.000000     768.000000  768.000000   \n",
       "mean      3.845052  120.894531      69.105469      20.536458   79.799479   \n",
       "std       3.369578   31.972618      19.355807      15.952218  115.244002   \n",
       "min       0.000000    0.000000       0.000000       0.000000    0.000000   \n",
       "25%       1.000000   99.000000      62.000000       0.000000    0.000000   \n",
       "50%       3.000000  117.000000      72.000000      23.000000   30.500000   \n",
       "75%       6.000000  140.250000      80.000000      32.000000  127.250000   \n",
       "max      17.000000  199.000000     122.000000      99.000000  846.000000   \n",
       "\n",
       "              BMI  DiabetesPedigreeFunction         Age     Outcome  \n",
       "count  768.000000                768.000000  768.000000  768.000000  \n",
       "mean    31.992578                  0.471876   33.240885    0.348958  \n",
       "std      7.884160                  0.331329   11.760232    0.476951  \n",
       "min      0.000000                  0.078000   21.000000    0.000000  \n",
       "25%     27.300000                  0.243750   24.000000    0.000000  \n",
       "50%     32.000000                  0.372500   29.000000    0.000000  \n",
       "75%     36.600000                  0.626250   41.000000    1.000000  \n",
       "max     67.100000                  2.420000   81.000000    1.000000  "
      ]
     },
     "execution_count": 9,
     "metadata": {},
     "output_type": "execute_result"
    }
   ],
   "source": [
    "df.describe()"
   ]
  },
  {
   "cell_type": "code",
   "execution_count": 10,
   "id": "2aab6902",
   "metadata": {
    "execution": {
     "iopub.execute_input": "2022-12-24T18:33:35.126643Z",
     "iopub.status.busy": "2022-12-24T18:33:35.126230Z",
     "iopub.status.idle": "2022-12-24T18:33:36.707465Z",
     "shell.execute_reply": "2022-12-24T18:33:36.706078Z"
    },
    "papermill": {
     "duration": 1.596749,
     "end_time": "2022-12-24T18:33:36.709995",
     "exception": false,
     "start_time": "2022-12-24T18:33:35.113246",
     "status": "completed"
    },
    "tags": []
   },
   "outputs": [
    {
     "data": {
      "image/png": "[encoded data removed]",
      "text/plain": [
       "<Figure size 1152x720 with 9 Axes>"
      ]
     },
     "metadata": {
      "needs_background": "light"
     },
     "output_type": "display_data"
    }
   ],
   "source": [
    "df.hist(figsize=(16, 10));"
   ]
  },
  {
   "cell_type": "markdown",
   "id": "2058e5a4",
   "metadata": {
    "papermill": {
     "duration": 0.011936,
     "end_time": "2022-12-24T18:33:36.734528",
     "exception": false,
     "start_time": "2022-12-24T18:33:36.722592",
     "status": "completed"
    },
    "tags": []
   },
   "source": [
    "#### non diabetic < diabetic\n",
    "#### age is mostly between 24 and 41\n"
   ]
  },
  {
   "cell_type": "code",
   "execution_count": 11,
   "id": "5137da07",
   "metadata": {
    "execution": {
     "iopub.execute_input": "2022-12-24T18:33:36.761915Z",
     "iopub.status.busy": "2022-12-24T18:33:36.761436Z",
     "iopub.status.idle": "2022-12-24T18:33:36.773795Z",
     "shell.execute_reply": "2022-12-24T18:33:36.771549Z"
    },
    "papermill": {
     "duration": 0.029936,
     "end_time": "2022-12-24T18:33:36.776846",
     "exception": false,
     "start_time": "2022-12-24T18:33:36.746910",
     "status": "completed"
    },
    "tags": []
   },
   "outputs": [
    {
     "name": "stdout",
     "output_type": "stream",
     "text": [
      "Count of zero of Pregnancies column is: 111\n",
      "Count of zero of Glucose column is: 5\n",
      "Count of zero of BloodPressure column is: 35\n",
      "Count of zero of SkinThickness column is: 227\n",
      "Count of zero of Insulin column is: 374\n",
      "Count of zero of BMI column is: 11\n",
      "Count of zero of DiabetesPedigreeFunction column is: 0\n",
      "Count of zero of Age column is: 0\n",
      "Count of zero of Outcome column is: 500\n"
     ]
    }
   ],
   "source": [
    "#Calculate number of zero values\n",
    "for col in df:\n",
    "    print(\"Count of zero of {} column is: {}\".format(col, df.Age[df[col]==0].count()))"
   ]
  },
  {
   "cell_type": "markdown",
   "id": "b8859aeb",
   "metadata": {
    "papermill": {
     "duration": 0.012528,
     "end_time": "2022-12-24T18:33:36.802015",
     "exception": false,
     "start_time": "2022-12-24T18:33:36.789487",
     "status": "completed"
    },
    "tags": []
   },
   "source": [
    "#### Skinthickness and Insulin have high zero values\n",
    "#### zero values for outcom and pregnancies is logic"
   ]
  },
  {
   "cell_type": "markdown",
   "id": "06d91738",
   "metadata": {
    "papermill": {
     "duration": 0.012234,
     "end_time": "2022-12-24T18:33:36.827189",
     "exception": false,
     "start_time": "2022-12-24T18:33:36.814955",
     "status": "completed"
    },
    "tags": []
   },
   "source": []
  },
  {
   "cell_type": "markdown",
   "id": "c84ad834",
   "metadata": {
    "papermill": {
     "duration": 0.01234,
     "end_time": "2022-12-24T18:33:36.852269",
     "exception": false,
     "start_time": "2022-12-24T18:33:36.839929",
     "status": "completed"
    },
    "tags": []
   },
   "source": [
    "#### "
   ]
  },
  {
   "cell_type": "code",
   "execution_count": 12,
   "id": "b76d3afc",
   "metadata": {
    "execution": {
     "iopub.execute_input": "2022-12-24T18:33:36.878488Z",
     "iopub.status.busy": "2022-12-24T18:33:36.878092Z",
     "iopub.status.idle": "2022-12-24T18:33:36.898879Z",
     "shell.execute_reply": "2022-12-24T18:33:36.897696Z"
    },
    "papermill": {
     "duration": 0.036798,
     "end_time": "2022-12-24T18:33:36.901333",
     "exception": false,
     "start_time": "2022-12-24T18:33:36.864535",
     "status": "completed"
    },
    "tags": []
   },
   "outputs": [
    {
     "data": {
      "text/html": [
       "<div>\n",
       "<style scoped>\n",
       "    .dataframe tbody tr th:only-of-type {\n",
       "        vertical-align: middle;\n",
       "    }\n",
       "\n",
       "    .dataframe tbody tr th {\n",
       "        vertical-align: top;\n",
       "    }\n",
       "\n",
       "    .dataframe thead th {\n",
       "        text-align: right;\n",
       "    }\n",
       "</style>\n",
       "<table border=\"1\" class=\"dataframe\">\n",
       "  <thead>\n",
       "    <tr style=\"text-align: right;\">\n",
       "      <th></th>\n",
       "      <th>Pregnancies</th>\n",
       "      <th>Glucose</th>\n",
       "      <th>BloodPressure</th>\n",
       "      <th>SkinThickness</th>\n",
       "      <th>Insulin</th>\n",
       "      <th>BMI</th>\n",
       "      <th>DiabetesPedigreeFunction</th>\n",
       "      <th>Age</th>\n",
       "      <th>Outcome</th>\n",
       "    </tr>\n",
       "  </thead>\n",
       "  <tbody>\n",
       "    <tr>\n",
       "      <th>Pregnancies</th>\n",
       "      <td>1.000000</td>\n",
       "      <td>0.129459</td>\n",
       "      <td>0.141282</td>\n",
       "      <td>-0.081672</td>\n",
       "      <td>-0.073535</td>\n",
       "      <td>0.017683</td>\n",
       "      <td>-0.033523</td>\n",
       "      <td>0.544341</td>\n",
       "      <td>0.221898</td>\n",
       "    </tr>\n",
       "    <tr>\n",
       "      <th>Glucose</th>\n",
       "      <td>0.129459</td>\n",
       "      <td>1.000000</td>\n",
       "      <td>0.152590</td>\n",
       "      <td>0.057328</td>\n",
       "      <td>0.331357</td>\n",
       "      <td>0.221071</td>\n",
       "      <td>0.137337</td>\n",
       "      <td>0.263514</td>\n",
       "      <td>0.466581</td>\n",
       "    </tr>\n",
       "    <tr>\n",
       "      <th>BloodPressure</th>\n",
       "      <td>0.141282</td>\n",
       "      <td>0.152590</td>\n",
       "      <td>1.000000</td>\n",
       "      <td>0.207371</td>\n",
       "      <td>0.088933</td>\n",
       "      <td>0.281805</td>\n",
       "      <td>0.041265</td>\n",
       "      <td>0.239528</td>\n",
       "      <td>0.065068</td>\n",
       "    </tr>\n",
       "    <tr>\n",
       "      <th>SkinThickness</th>\n",
       "      <td>-0.081672</td>\n",
       "      <td>0.057328</td>\n",
       "      <td>0.207371</td>\n",
       "      <td>1.000000</td>\n",
       "      <td>0.436783</td>\n",
       "      <td>0.392573</td>\n",
       "      <td>0.183928</td>\n",
       "      <td>-0.113970</td>\n",
       "      <td>0.074752</td>\n",
       "    </tr>\n",
       "    <tr>\n",
       "      <th>Insulin</th>\n",
       "      <td>-0.073535</td>\n",
       "      <td>0.331357</td>\n",
       "      <td>0.088933</td>\n",
       "      <td>0.436783</td>\n",
       "      <td>1.000000</td>\n",
       "      <td>0.197859</td>\n",
       "      <td>0.185071</td>\n",
       "      <td>-0.042163</td>\n",
       "      <td>0.130548</td>\n",
       "    </tr>\n",
       "    <tr>\n",
       "      <th>BMI</th>\n",
       "      <td>0.017683</td>\n",
       "      <td>0.221071</td>\n",
       "      <td>0.281805</td>\n",
       "      <td>0.392573</td>\n",
       "      <td>0.197859</td>\n",
       "      <td>1.000000</td>\n",
       "      <td>0.140647</td>\n",
       "      <td>0.036242</td>\n",
       "      <td>0.292695</td>\n",
       "    </tr>\n",
       "    <tr>\n",
       "      <th>DiabetesPedigreeFunction</th>\n",
       "      <td>-0.033523</td>\n",
       "      <td>0.137337</td>\n",
       "      <td>0.041265</td>\n",
       "      <td>0.183928</td>\n",
       "      <td>0.185071</td>\n",
       "      <td>0.140647</td>\n",
       "      <td>1.000000</td>\n",
       "      <td>0.033561</td>\n",
       "      <td>0.173844</td>\n",
       "    </tr>\n",
       "    <tr>\n",
       "      <th>Age</th>\n",
       "      <td>0.544341</td>\n",
       "      <td>0.263514</td>\n",
       "      <td>0.239528</td>\n",
       "      <td>-0.113970</td>\n",
       "      <td>-0.042163</td>\n",
       "      <td>0.036242</td>\n",
       "      <td>0.033561</td>\n",
       "      <td>1.000000</td>\n",
       "      <td>0.238356</td>\n",
       "    </tr>\n",
       "    <tr>\n",
       "      <th>Outcome</th>\n",
       "      <td>0.221898</td>\n",
       "      <td>0.466581</td>\n",
       "      <td>0.065068</td>\n",
       "      <td>0.074752</td>\n",
       "      <td>0.130548</td>\n",
       "      <td>0.292695</td>\n",
       "      <td>0.173844</td>\n",
       "      <td>0.238356</td>\n",
       "      <td>1.000000</td>\n",
       "    </tr>\n",
       "  </tbody>\n",
       "</table>\n",
       "</div>"
      ],
      "text/plain": [
       "                          Pregnancies   Glucose  BloodPressure  SkinThickness  \\\n",
       "Pregnancies                  1.000000  0.129459       0.141282      -0.081672   \n",
       "Glucose                      0.129459  1.000000       0.152590       0.057328   \n",
       "BloodPressure                0.141282  0.152590       1.000000       0.207371   \n",
       "SkinThickness               -0.081672  0.057328       0.207371       1.000000   \n",
       "Insulin                     -0.073535  0.331357       0.088933       0.436783   \n",
       "BMI                          0.017683  0.221071       0.281805       0.392573   \n",
       "DiabetesPedigreeFunction    -0.033523  0.137337       0.041265       0.183928   \n",
       "Age                          0.544341  0.263514       0.239528      -0.113970   \n",
       "Outcome                      0.221898  0.466581       0.065068       0.074752   \n",
       "\n",
       "                           Insulin       BMI  DiabetesPedigreeFunction  \\\n",
       "Pregnancies              -0.073535  0.017683                 -0.033523   \n",
       "Glucose                   0.331357  0.221071                  0.137337   \n",
       "BloodPressure             0.088933  0.281805                  0.041265   \n",
       "SkinThickness             0.436783  0.392573                  0.183928   \n",
       "Insulin                   1.000000  0.197859                  0.185071   \n",
       "BMI                       0.197859  1.000000                  0.140647   \n",
       "DiabetesPedigreeFunction  0.185071  0.140647                  1.000000   \n",
       "Age                      -0.042163  0.036242                  0.033561   \n",
       "Outcome                   0.130548  0.292695                  0.173844   \n",
       "\n",
       "                               Age   Outcome  \n",
       "Pregnancies               0.544341  0.221898  \n",
       "Glucose                   0.263514  0.466581  \n",
       "BloodPressure             0.239528  0.065068  \n",
       "SkinThickness            -0.113970  0.074752  \n",
       "Insulin                  -0.042163  0.130548  \n",
       "BMI                       0.036242  0.292695  \n",
       "DiabetesPedigreeFunction  0.033561  0.173844  \n",
       "Age                       1.000000  0.238356  \n",
       "Outcome                   0.238356  1.000000  "
      ]
     },
     "execution_count": 12,
     "metadata": {},
     "output_type": "execute_result"
    }
   ],
   "source": [
    "\n",
    "df.corr()"
   ]
  },
  {
   "cell_type": "markdown",
   "id": "77d93f8b",
   "metadata": {
    "papermill": {
     "duration": 0.012845,
     "end_time": "2022-12-24T18:33:36.927320",
     "exception": false,
     "start_time": "2022-12-24T18:33:36.914475",
     "status": "completed"
    },
    "tags": []
   },
   "source": [
    "#### #all measurments have a positive influence on diabetes but BP and SkinThickness have little.\n",
    "#### # BP and BMI and Glucose level increases by age.\n",
    "#### # Glucose increse as insulin increase as insulin do not do its work (insensitivity of insulin receptors) \n"
   ]
  },
  {
   "cell_type": "code",
   "execution_count": 13,
   "id": "05f1bd73",
   "metadata": {
    "execution": {
     "iopub.execute_input": "2022-12-24T18:33:36.954249Z",
     "iopub.status.busy": "2022-12-24T18:33:36.953867Z",
     "iopub.status.idle": "2022-12-24T18:33:36.959890Z",
     "shell.execute_reply": "2022-12-24T18:33:36.958679Z"
    },
    "papermill": {
     "duration": 0.022621,
     "end_time": "2022-12-24T18:33:36.962558",
     "exception": false,
     "start_time": "2022-12-24T18:33:36.939937",
     "status": "completed"
    },
    "tags": []
   },
   "outputs": [],
   "source": [
    "# function to visualize relationship:\n",
    "def re(colnam1, colnam2):\n",
    "    plt.figure(figsize=(16, 6))\n",
    "    sns.regplot(x=df[colnam1], y=df[colnam2])\n",
    "    sns.set_style(\"darkgrid\")"
   ]
  },
  {
   "cell_type": "code",
   "execution_count": 14,
   "id": "1c1ac75a",
   "metadata": {
    "execution": {
     "iopub.execute_input": "2022-12-24T18:33:36.990888Z",
     "iopub.status.busy": "2022-12-24T18:33:36.990475Z",
     "iopub.status.idle": "2022-12-24T18:33:37.414756Z",
     "shell.execute_reply": "2022-12-24T18:33:37.413508Z"
    },
    "papermill": {
     "duration": 0.441856,
     "end_time": "2022-12-24T18:33:37.417300",
     "exception": false,
     "start_time": "2022-12-24T18:33:36.975444",
     "status": "completed"
    },
    "tags": []
   },
   "outputs": [
    {
     "data": {
      "image/png": "[encoded data removed]",
      "text/plain": [
       "<Figure size 1152x432 with 1 Axes>"
      ]
     },
     "metadata": {
      "needs_background": "light"
     },
     "output_type": "display_data"
    }
   ],
   "source": [
    "re(\"Outcome\", \"BMI\")"
   ]
  },
  {
   "cell_type": "code",
   "execution_count": 15,
   "id": "d77a1d77",
   "metadata": {
    "execution": {
     "iopub.execute_input": "2022-12-24T18:33:37.447662Z",
     "iopub.status.busy": "2022-12-24T18:33:37.447217Z",
     "iopub.status.idle": "2022-12-24T18:33:37.925005Z",
     "shell.execute_reply": "2022-12-24T18:33:37.924170Z"
    },
    "papermill": {
     "duration": 0.496548,
     "end_time": "2022-12-24T18:33:37.927418",
     "exception": false,
     "start_time": "2022-12-24T18:33:37.430870",
     "status": "completed"
    },
    "tags": []
   },
   "outputs": [
    {
     "data": {
      "image/png": "[encoded data removed]",
      "text/plain": [
       "<Figure size 1152x432 with 1 Axes>"
      ]
     },
     "metadata": {},
     "output_type": "display_data"
    }
   ],
   "source": [
    "re(\"Age\", \"Pregnancies\")"
   ]
  },
  {
   "cell_type": "code",
   "execution_count": 16,
   "id": "6547e1fa",
   "metadata": {
    "execution": {
     "iopub.execute_input": "2022-12-24T18:33:37.956838Z",
     "iopub.status.busy": "2022-12-24T18:33:37.956369Z",
     "iopub.status.idle": "2022-12-24T18:33:38.421345Z",
     "shell.execute_reply": "2022-12-24T18:33:38.420164Z"
    },
    "papermill": {
     "duration": 0.482387,
     "end_time": "2022-12-24T18:33:38.423829",
     "exception": false,
     "start_time": "2022-12-24T18:33:37.941442",
     "status": "completed"
    },
    "tags": []
   },
   "outputs": [
    {
     "data": {
      "image/png": "[encoded data removed]",
      "text/plain": [
       "<Figure size 1152x432 with 1 Axes>"
      ]
     },
     "metadata": {},
     "output_type": "display_data"
    }
   ],
   "source": [
    "re(\"Outcome\", \"Glucose\")"
   ]
  },
  {
   "cell_type": "code",
   "execution_count": 17,
   "id": "d06fe8de",
   "metadata": {
    "execution": {
     "iopub.execute_input": "2022-12-24T18:33:38.454454Z",
     "iopub.status.busy": "2022-12-24T18:33:38.454077Z",
     "iopub.status.idle": "2022-12-24T18:33:38.896406Z",
     "shell.execute_reply": "2022-12-24T18:33:38.895228Z"
    },
    "papermill": {
     "duration": 0.460627,
     "end_time": "2022-12-24T18:33:38.898932",
     "exception": false,
     "start_time": "2022-12-24T18:33:38.438305",
     "status": "completed"
    },
    "tags": []
   },
   "outputs": [
    {
     "data": {
      "image/png": "[encoded data removed]",
      "text/plain": [
       "<Figure size 432x288 with 1 Axes>"
      ]
     },
     "metadata": {},
     "output_type": "display_data"
    }
   ],
   "source": [
    "sns.regplot(x=df.Age, y=df.BMI);"
   ]
  },
  {
   "cell_type": "code",
   "execution_count": 18,
   "id": "77558723",
   "metadata": {
    "execution": {
     "iopub.execute_input": "2022-12-24T18:33:38.929833Z",
     "iopub.status.busy": "2022-12-24T18:33:38.929130Z",
     "iopub.status.idle": "2022-12-24T18:33:39.387297Z",
     "shell.execute_reply": "2022-12-24T18:33:39.386118Z"
    },
    "papermill": {
     "duration": 0.47664,
     "end_time": "2022-12-24T18:33:39.389887",
     "exception": false,
     "start_time": "2022-12-24T18:33:38.913247",
     "status": "completed"
    },
    "tags": []
   },
   "outputs": [
    {
     "data": {
      "image/png": "[encoded data removed]",
      "text/plain": [
       "<Figure size 1152x432 with 1 Axes>"
      ]
     },
     "metadata": {},
     "output_type": "display_data"
    }
   ],
   "source": [
    "re(\"Outcome\", \"Pregnancies\")"
   ]
  },
  {
   "cell_type": "code",
   "execution_count": 19,
   "id": "215d654b",
   "metadata": {
    "execution": {
     "iopub.execute_input": "2022-12-24T18:33:39.423005Z",
     "iopub.status.busy": "2022-12-24T18:33:39.422536Z",
     "iopub.status.idle": "2022-12-24T18:33:39.431095Z",
     "shell.execute_reply": "2022-12-24T18:33:39.429718Z"
    },
    "papermill": {
     "duration": 0.028219,
     "end_time": "2022-12-24T18:33:39.433827",
     "exception": false,
     "start_time": "2022-12-24T18:33:39.405608",
     "status": "completed"
    },
    "tags": []
   },
   "outputs": [
    {
     "data": {
      "text/plain": [
       "array([ 6,  1,  8,  0,  5,  3, 10,  2,  4,  7,  9, 11, 13, 15, 17, 12, 14])"
      ]
     },
     "execution_count": 19,
     "metadata": {},
     "output_type": "execute_result"
    }
   ],
   "source": [
    "\n",
    "df.Pregnancies.unique()"
   ]
  },
  {
   "cell_type": "code",
   "execution_count": 20,
   "id": "91bf0e24",
   "metadata": {
    "execution": {
     "iopub.execute_input": "2022-12-24T18:33:39.466527Z",
     "iopub.status.busy": "2022-12-24T18:33:39.465863Z",
     "iopub.status.idle": "2022-12-24T18:33:39.476921Z",
     "shell.execute_reply": "2022-12-24T18:33:39.475477Z"
    },
    "papermill": {
     "duration": 0.029901,
     "end_time": "2022-12-24T18:33:39.479313",
     "exception": false,
     "start_time": "2022-12-24T18:33:39.449412",
     "status": "completed"
    },
    "tags": []
   },
   "outputs": [
    {
     "data": {
      "text/plain": [
       "Pregnancies\n",
       "0     0.342342\n",
       "1     0.214815\n",
       "2     0.184466\n",
       "3     0.360000\n",
       "4     0.338235\n",
       "5     0.368421\n",
       "6     0.320000\n",
       "7     0.555556\n",
       "8     0.578947\n",
       "9     0.642857\n",
       "10    0.416667\n",
       "11    0.636364\n",
       "12    0.444444\n",
       "13    0.500000\n",
       "14    1.000000\n",
       "15    1.000000\n",
       "17    1.000000\n",
       "Name: Outcome, dtype: float64"
      ]
     },
     "execution_count": 20,
     "metadata": {},
     "output_type": "execute_result"
    }
   ],
   "source": [
    "df.groupby('Pregnancies')['Outcome'].mean()"
   ]
  },
  {
   "cell_type": "markdown",
   "id": "dda5b3ab",
   "metadata": {
    "papermill": {
     "duration": 0.014642,
     "end_time": "2022-12-24T18:33:39.508840",
     "exception": false,
     "start_time": "2022-12-24T18:33:39.494198",
     "status": "completed"
    },
    "tags": []
   },
   "source": [
    "# Diabetes Prediction Model"
   ]
  },
  {
   "cell_type": "code",
   "execution_count": 21,
   "id": "c27f3b87",
   "metadata": {
    "execution": {
     "iopub.execute_input": "2022-12-24T18:33:39.541024Z",
     "iopub.status.busy": "2022-12-24T18:33:39.540336Z",
     "iopub.status.idle": "2022-12-24T18:33:40.070155Z",
     "shell.execute_reply": "2022-12-24T18:33:40.068906Z"
    },
    "papermill": {
     "duration": 0.549526,
     "end_time": "2022-12-24T18:33:40.073239",
     "exception": false,
     "start_time": "2022-12-24T18:33:39.523713",
     "status": "completed"
    },
    "tags": []
   },
   "outputs": [],
   "source": [
    "#Import helpfull libraries\n",
    "\n",
    "from sklearn.tree import DecisionTreeRegressor\n",
    "from sklearn.model_selection import train_test_split\n",
    "from sklearn.metrics import mean_absolute_error"
   ]
  },
  {
   "cell_type": "code",
   "execution_count": 22,
   "id": "35a8ac3f",
   "metadata": {
    "execution": {
     "iopub.execute_input": "2022-12-24T18:33:40.107149Z",
     "iopub.status.busy": "2022-12-24T18:33:40.106669Z",
     "iopub.status.idle": "2022-12-24T18:33:40.113291Z",
     "shell.execute_reply": "2022-12-24T18:33:40.112432Z"
    },
    "papermill": {
     "duration": 0.025686,
     "end_time": "2022-12-24T18:33:40.115341",
     "exception": false,
     "start_time": "2022-12-24T18:33:40.089655",
     "status": "completed"
    },
    "tags": []
   },
   "outputs": [
    {
     "data": {
      "text/plain": [
       "Index(['Pregnancies', 'Glucose', 'BloodPressure', 'SkinThickness', 'Insulin',\n",
       "       'BMI', 'DiabetesPedigreeFunction', 'Age', 'Outcome'],\n",
       "      dtype='object')"
      ]
     },
     "execution_count": 22,
     "metadata": {},
     "output_type": "execute_result"
    }
   ],
   "source": [
    "df.columns"
   ]
  },
  {
   "cell_type": "code",
   "execution_count": 23,
   "id": "cd047c53",
   "metadata": {
    "execution": {
     "iopub.execute_input": "2022-12-24T18:33:40.147948Z",
     "iopub.status.busy": "2022-12-24T18:33:40.147158Z",
     "iopub.status.idle": "2022-12-24T18:33:40.161096Z",
     "shell.execute_reply": "2022-12-24T18:33:40.159823Z"
    },
    "papermill": {
     "duration": 0.032861,
     "end_time": "2022-12-24T18:33:40.163362",
     "exception": false,
     "start_time": "2022-12-24T18:33:40.130501",
     "status": "completed"
    },
    "tags": []
   },
   "outputs": [
    {
     "data": {
      "text/html": [
       "<div>\n",
       "<style scoped>\n",
       "    .dataframe tbody tr th:only-of-type {\n",
       "        vertical-align: middle;\n",
       "    }\n",
       "\n",
       "    .dataframe tbody tr th {\n",
       "        vertical-align: top;\n",
       "    }\n",
       "\n",
       "    .dataframe thead th {\n",
       "        text-align: right;\n",
       "    }\n",
       "</style>\n",
       "<table border=\"1\" class=\"dataframe\">\n",
       "  <thead>\n",
       "    <tr style=\"text-align: right;\">\n",
       "      <th></th>\n",
       "      <th>Age</th>\n",
       "      <th>BMI</th>\n",
       "      <th>Pregnancies</th>\n",
       "      <th>Insulin</th>\n",
       "      <th>DiabetesPedigreeFunction</th>\n",
       "      <th>Glucose</th>\n",
       "    </tr>\n",
       "  </thead>\n",
       "  <tbody>\n",
       "    <tr>\n",
       "      <th>0</th>\n",
       "      <td>50</td>\n",
       "      <td>33.6</td>\n",
       "      <td>6</td>\n",
       "      <td>0</td>\n",
       "      <td>0.627</td>\n",
       "      <td>148</td>\n",
       "    </tr>\n",
       "    <tr>\n",
       "      <th>1</th>\n",
       "      <td>31</td>\n",
       "      <td>26.6</td>\n",
       "      <td>1</td>\n",
       "      <td>0</td>\n",
       "      <td>0.351</td>\n",
       "      <td>85</td>\n",
       "    </tr>\n",
       "    <tr>\n",
       "      <th>2</th>\n",
       "      <td>32</td>\n",
       "      <td>23.3</td>\n",
       "      <td>8</td>\n",
       "      <td>0</td>\n",
       "      <td>0.672</td>\n",
       "      <td>183</td>\n",
       "    </tr>\n",
       "    <tr>\n",
       "      <th>3</th>\n",
       "      <td>21</td>\n",
       "      <td>28.1</td>\n",
       "      <td>1</td>\n",
       "      <td>94</td>\n",
       "      <td>0.167</td>\n",
       "      <td>89</td>\n",
       "    </tr>\n",
       "    <tr>\n",
       "      <th>4</th>\n",
       "      <td>33</td>\n",
       "      <td>43.1</td>\n",
       "      <td>0</td>\n",
       "      <td>168</td>\n",
       "      <td>2.288</td>\n",
       "      <td>137</td>\n",
       "    </tr>\n",
       "  </tbody>\n",
       "</table>\n",
       "</div>"
      ],
      "text/plain": [
       "   Age   BMI  Pregnancies  Insulin  DiabetesPedigreeFunction  Glucose\n",
       "0   50  33.6            6        0                     0.627      148\n",
       "1   31  26.6            1        0                     0.351       85\n",
       "2   32  23.3            8        0                     0.672      183\n",
       "3   21  28.1            1       94                     0.167       89\n",
       "4   33  43.1            0      168                     2.288      137"
      ]
     },
     "execution_count": 23,
     "metadata": {},
     "output_type": "execute_result"
    }
   ],
   "source": [
    "#Separate target data\n",
    "y = df.Outcome\n",
    "features =['Age', 'BMI', 'Pregnancies', 'Insulin', 'DiabetesPedigreeFunction', 'Glucose']\n",
    "x = df[features]\n",
    "x.head()"
   ]
  },
  {
   "cell_type": "code",
   "execution_count": 24,
   "id": "4f049c45",
   "metadata": {
    "execution": {
     "iopub.execute_input": "2022-12-24T18:33:40.195854Z",
     "iopub.status.busy": "2022-12-24T18:33:40.195423Z",
     "iopub.status.idle": "2022-12-24T18:33:40.202504Z",
     "shell.execute_reply": "2022-12-24T18:33:40.201647Z"
    },
    "papermill": {
     "duration": 0.025881,
     "end_time": "2022-12-24T18:33:40.204750",
     "exception": false,
     "start_time": "2022-12-24T18:33:40.178869",
     "status": "completed"
    },
    "tags": []
   },
   "outputs": [],
   "source": [
    "# Split data to validation and trainnig \n",
    "train_x,val_x, train_y, val_y = train_test_split(x, y, random_state=1) "
   ]
  },
  {
   "cell_type": "code",
   "execution_count": 25,
   "id": "883a946d",
   "metadata": {
    "execution": {
     "iopub.execute_input": "2022-12-24T18:33:40.237470Z",
     "iopub.status.busy": "2022-12-24T18:33:40.236304Z",
     "iopub.status.idle": "2022-12-24T18:33:40.251126Z",
     "shell.execute_reply": "2022-12-24T18:33:40.250211Z"
    },
    "papermill": {
     "duration": 0.033339,
     "end_time": "2022-12-24T18:33:40.253261",
     "exception": false,
     "start_time": "2022-12-24T18:33:40.219922",
     "status": "completed"
    },
    "tags": []
   },
   "outputs": [
    {
     "data": {
      "text/plain": [
       "array([0., 0., 0., 0., 0., 0., 0., 0., 0., 0., 0., 0., 1., 1., 1., 0., 0.,\n",
       "       0., 0., 0., 0., 0., 1., 0., 0., 0., 1., 1., 0., 0., 0., 1., 0., 1.,\n",
       "       1., 1., 0., 1., 0., 0., 0., 0., 0., 0., 0., 0., 0., 1., 0., 0., 0.,\n",
       "       1., 1., 0., 1., 0., 0., 0., 1., 0., 1., 0., 1., 0., 1., 0., 0., 0.,\n",
       "       1., 1., 1., 1., 0., 0., 0., 1., 1., 1., 0., 1., 1., 0., 0., 0., 0.,\n",
       "       0., 0., 1., 0., 0., 0., 0., 0., 0., 1., 1., 0., 0., 1., 0., 0., 0.,\n",
       "       1., 0., 0., 0., 0., 1., 0., 0., 0., 0., 0., 1., 0., 0., 0., 0., 0.,\n",
       "       0., 0., 1., 1., 0., 0., 0., 0., 0., 0., 0., 1., 0., 1., 0., 0., 0.,\n",
       "       0., 1., 0., 1., 1., 0., 1., 1., 1., 0., 0., 0., 0., 0., 0., 0., 0.,\n",
       "       1., 1., 0., 0., 0., 0., 0., 0., 1., 0., 0., 0., 0., 0., 1., 1., 0.,\n",
       "       1., 1., 0., 0., 1., 1., 1., 0., 0., 0., 1., 1., 0., 1., 0., 0., 0.,\n",
       "       0., 0., 0., 0., 0.])"
      ]
     },
     "execution_count": 25,
     "metadata": {},
     "output_type": "execute_result"
    }
   ],
   "source": [
    "# Define Deision tree model\n",
    "model = DecisionTreeRegressor(random_state=1)\n",
    "model.fit(train_x, train_y)\n",
    "prediction = model.predict(val_x)\n",
    "prediction"
   ]
  },
  {
   "cell_type": "code",
   "execution_count": 26,
   "id": "36358912",
   "metadata": {
    "execution": {
     "iopub.execute_input": "2022-12-24T18:33:40.287065Z",
     "iopub.status.busy": "2022-12-24T18:33:40.285961Z",
     "iopub.status.idle": "2022-12-24T18:33:40.294946Z",
     "shell.execute_reply": "2022-12-24T18:33:40.293574Z"
    },
    "papermill": {
     "duration": 0.028539,
     "end_time": "2022-12-24T18:33:40.297238",
     "exception": false,
     "start_time": "2022-12-24T18:33:40.268699",
     "status": "completed"
    },
    "tags": []
   },
   "outputs": [
    {
     "data": {
      "text/plain": [
       "0.2864583333333333"
      ]
     },
     "execution_count": 26,
     "metadata": {},
     "output_type": "execute_result"
    }
   ],
   "source": [
    "mae= mean_absolute_error(prediction, val_y)\n",
    "mae"
   ]
  },
  {
   "cell_type": "code",
   "execution_count": 27,
   "id": "59e08676",
   "metadata": {
    "execution": {
     "iopub.execute_input": "2022-12-24T18:33:40.330924Z",
     "iopub.status.busy": "2022-12-24T18:33:40.330469Z",
     "iopub.status.idle": "2022-12-24T18:33:40.336140Z",
     "shell.execute_reply": "2022-12-24T18:33:40.334814Z"
    },
    "papermill": {
     "duration": 0.02593,
     "end_time": "2022-12-24T18:33:40.338690",
     "exception": false,
     "start_time": "2022-12-24T18:33:40.312760",
     "status": "completed"
    },
    "tags": []
   },
   "outputs": [
    {
     "name": "stdout",
     "output_type": "stream",
     "text": [
      "Validation MAE for Random Forest Model: 0.286458\n"
     ]
    }
   ],
   "source": [
    "print(\"Validation MAE for Random Forest Model: {:,f}\".format(mae))"
   ]
  },
  {
   "cell_type": "code",
   "execution_count": 28,
   "id": "37380bc0",
   "metadata": {
    "execution": {
     "iopub.execute_input": "2022-12-24T18:33:40.371255Z",
     "iopub.status.busy": "2022-12-24T18:33:40.370837Z",
     "iopub.status.idle": "2022-12-24T18:33:40.380945Z",
     "shell.execute_reply": "2022-12-24T18:33:40.379639Z"
    },
    "papermill": {
     "duration": 0.029085,
     "end_time": "2022-12-24T18:33:40.383204",
     "exception": false,
     "start_time": "2022-12-24T18:33:40.354119",
     "status": "completed"
    },
    "tags": []
   },
   "outputs": [
    {
     "data": {
      "text/plain": [
       "[0.0, 0.0, 1.0, 1.0, 0.0]"
      ]
     },
     "execution_count": 28,
     "metadata": {},
     "output_type": "execute_result"
    }
   ],
   "source": [
    "list(model.predict(x.tail())) #Prediction"
   ]
  },
  {
   "cell_type": "code",
   "execution_count": 29,
   "id": "92853ff3",
   "metadata": {
    "execution": {
     "iopub.execute_input": "2022-12-24T18:33:40.417065Z",
     "iopub.status.busy": "2022-12-24T18:33:40.415960Z",
     "iopub.status.idle": "2022-12-24T18:33:40.423323Z",
     "shell.execute_reply": "2022-12-24T18:33:40.422322Z"
    },
    "papermill": {
     "duration": 0.026221,
     "end_time": "2022-12-24T18:33:40.425383",
     "exception": false,
     "start_time": "2022-12-24T18:33:40.399162",
     "status": "completed"
    },
    "tags": []
   },
   "outputs": [
    {
     "data": {
      "text/plain": [
       "[0, 0, 0, 1, 0]"
      ]
     },
     "execution_count": 29,
     "metadata": {},
     "output_type": "execute_result"
    }
   ],
   "source": [
    "list(df['Outcome'].tail())  #Data"
   ]
  },
  {
   "cell_type": "code",
   "execution_count": 30,
   "id": "f59d14ef",
   "metadata": {
    "execution": {
     "iopub.execute_input": "2022-12-24T18:33:40.459015Z",
     "iopub.status.busy": "2022-12-24T18:33:40.458622Z",
     "iopub.status.idle": "2022-12-24T18:33:40.468140Z",
     "shell.execute_reply": "2022-12-24T18:33:40.466566Z"
    },
    "papermill": {
     "duration": 0.029371,
     "end_time": "2022-12-24T18:33:40.470605",
     "exception": false,
     "start_time": "2022-12-24T18:33:40.441234",
     "status": "completed"
    },
    "tags": []
   },
   "outputs": [
    {
     "data": {
      "text/plain": [
       "[1.0, 0.0, 1.0, 0.0, 1.0]"
      ]
     },
     "execution_count": 30,
     "metadata": {},
     "output_type": "execute_result"
    }
   ],
   "source": [
    "list(model.predict(x.head())) #Prediction"
   ]
  },
  {
   "cell_type": "code",
   "execution_count": 31,
   "id": "30cf1c2b",
   "metadata": {
    "execution": {
     "iopub.execute_input": "2022-12-24T18:33:40.504044Z",
     "iopub.status.busy": "2022-12-24T18:33:40.503623Z",
     "iopub.status.idle": "2022-12-24T18:33:40.510430Z",
     "shell.execute_reply": "2022-12-24T18:33:40.509570Z"
    },
    "papermill": {
     "duration": 0.025897,
     "end_time": "2022-12-24T18:33:40.512413",
     "exception": false,
     "start_time": "2022-12-24T18:33:40.486516",
     "status": "completed"
    },
    "tags": []
   },
   "outputs": [
    {
     "data": {
      "text/plain": [
       "[1, 0, 1, 0, 1]"
      ]
     },
     "execution_count": 31,
     "metadata": {},
     "output_type": "execute_result"
    }
   ],
   "source": [
    "list(df['Outcome'].head()) #Data"
   ]
  },
  {
   "cell_type": "code",
   "execution_count": 32,
   "id": "5a04f02f",
   "metadata": {
    "execution": {
     "iopub.execute_input": "2022-12-24T18:33:40.546909Z",
     "iopub.status.busy": "2022-12-24T18:33:40.545563Z",
     "iopub.status.idle": "2022-12-24T18:33:40.553026Z",
     "shell.execute_reply": "2022-12-24T18:33:40.552045Z"
    },
    "papermill": {
     "duration": 0.026902,
     "end_time": "2022-12-24T18:33:40.555231",
     "exception": false,
     "start_time": "2022-12-24T18:33:40.528329",
     "status": "completed"
    },
    "tags": []
   },
   "outputs": [
    {
     "data": {
      "text/plain": [
       "Index(['Age', 'BMI', 'Pregnancies', 'Insulin', 'DiabetesPedigreeFunction',\n",
       "       'Glucose'],\n",
       "      dtype='object')"
      ]
     },
     "execution_count": 32,
     "metadata": {},
     "output_type": "execute_result"
    }
   ],
   "source": [
    "x.columns"
   ]
  },
  {
   "cell_type": "code",
   "execution_count": 33,
   "id": "61896730",
   "metadata": {
    "execution": {
     "iopub.execute_input": "2022-12-24T18:33:40.589828Z",
     "iopub.status.busy": "2022-12-24T18:33:40.589386Z",
     "iopub.status.idle": "2022-12-24T18:33:40.603203Z",
     "shell.execute_reply": "2022-12-24T18:33:40.601871Z"
    },
    "papermill": {
     "duration": 0.033476,
     "end_time": "2022-12-24T18:33:40.605441",
     "exception": false,
     "start_time": "2022-12-24T18:33:40.571965",
     "status": "completed"
    },
    "tags": []
   },
   "outputs": [
    {
     "data": {
      "text/html": [
       "<div>\n",
       "<style scoped>\n",
       "    .dataframe tbody tr th:only-of-type {\n",
       "        vertical-align: middle;\n",
       "    }\n",
       "\n",
       "    .dataframe tbody tr th {\n",
       "        vertical-align: top;\n",
       "    }\n",
       "\n",
       "    .dataframe thead th {\n",
       "        text-align: right;\n",
       "    }\n",
       "</style>\n",
       "<table border=\"1\" class=\"dataframe\">\n",
       "  <thead>\n",
       "    <tr style=\"text-align: right;\">\n",
       "      <th></th>\n",
       "      <th>Age</th>\n",
       "      <th>BMI</th>\n",
       "      <th>Pregnancies</th>\n",
       "      <th>Insulin</th>\n",
       "      <th>DiabetesPedigreeFunction</th>\n",
       "      <th>Glucose</th>\n",
       "    </tr>\n",
       "  </thead>\n",
       "  <tbody>\n",
       "    <tr>\n",
       "      <th>0</th>\n",
       "      <td>55</td>\n",
       "      <td>35</td>\n",
       "      <td>6</td>\n",
       "      <td>79</td>\n",
       "      <td>0.5</td>\n",
       "      <td>170</td>\n",
       "    </tr>\n",
       "    <tr>\n",
       "      <th>1</th>\n",
       "      <td>22</td>\n",
       "      <td>22</td>\n",
       "      <td>5</td>\n",
       "      <td>15</td>\n",
       "      <td>0.4</td>\n",
       "      <td>100</td>\n",
       "    </tr>\n",
       "  </tbody>\n",
       "</table>\n",
       "</div>"
      ],
      "text/plain": [
       "   Age  BMI  Pregnancies  Insulin  DiabetesPedigreeFunction  Glucose\n",
       "0   55   35            6       79                       0.5      170\n",
       "1   22   22            5       15                       0.4      100"
      ]
     },
     "execution_count": 33,
     "metadata": {},
     "output_type": "execute_result"
    }
   ],
   "source": [
    "# Give new data for two women \n",
    "female=pd.DataFrame.from_dict({'Age':[55,22],\n",
    "           'BMI':[35,22],\n",
    "          'Pregnancies':[6, 5],\n",
    "           'Insulin': [79, 15],\n",
    "           'DiabetesPedigreeFunction': [0.5,0.4],\n",
    "           'Glucose': [170, 100]\n",
    "          })\n",
    "female"
   ]
  },
  {
   "cell_type": "code",
   "execution_count": 34,
   "id": "3195516a",
   "metadata": {
    "execution": {
     "iopub.execute_input": "2022-12-24T18:33:40.640443Z",
     "iopub.status.busy": "2022-12-24T18:33:40.640011Z",
     "iopub.status.idle": "2022-12-24T18:33:40.649808Z",
     "shell.execute_reply": "2022-12-24T18:33:40.648626Z"
    },
    "papermill": {
     "duration": 0.030306,
     "end_time": "2022-12-24T18:33:40.652329",
     "exception": false,
     "start_time": "2022-12-24T18:33:40.622023",
     "status": "completed"
    },
    "tags": []
   },
   "outputs": [
    {
     "data": {
      "text/plain": [
       "array([1., 0.])"
      ]
     },
     "execution_count": 34,
     "metadata": {},
     "output_type": "execute_result"
    }
   ],
   "source": [
    "model.predict(female)"
   ]
  },
  {
   "cell_type": "code",
   "execution_count": 35,
   "id": "050e9dc8",
   "metadata": {
    "execution": {
     "iopub.execute_input": "2022-12-24T18:33:40.686853Z",
     "iopub.status.busy": "2022-12-24T18:33:40.686382Z",
     "iopub.status.idle": "2022-12-24T18:33:40.696286Z",
     "shell.execute_reply": "2022-12-24T18:33:40.695234Z"
    },
    "papermill": {
     "duration": 0.03032,
     "end_time": "2022-12-24T18:33:40.698826",
     "exception": false,
     "start_time": "2022-12-24T18:33:40.668506",
     "status": "completed"
    },
    "tags": []
   },
   "outputs": [
    {
     "data": {
      "text/plain": [
       "array([1., 0., 1., 0., 1., 0., 1., 0., 0., 1., 0., 1., 0., 0., 1., 1., 1.,\n",
       "       1., 0., 0.])"
      ]
     },
     "execution_count": 35,
     "metadata": {},
     "output_type": "execute_result"
    }
   ],
   "source": [
    "pred = model.predict(x.head(20))\n",
    "pred"
   ]
  },
  {
   "cell_type": "code",
   "execution_count": 36,
   "id": "fe32d424",
   "metadata": {
    "execution": {
     "iopub.execute_input": "2022-12-24T18:33:40.734528Z",
     "iopub.status.busy": "2022-12-24T18:33:40.734123Z",
     "iopub.status.idle": "2022-12-24T18:33:40.741811Z",
     "shell.execute_reply": "2022-12-24T18:33:40.740668Z"
    },
    "papermill": {
     "duration": 0.028,
     "end_time": "2022-12-24T18:33:40.744028",
     "exception": false,
     "start_time": "2022-12-24T18:33:40.716028",
     "status": "completed"
    },
    "tags": []
   },
   "outputs": [
    {
     "data": {
      "text/plain": [
       "[1, 0, 1, 0, 1, 0, 1, 0, 1, 1, 0, 1, 0, 1, 1, 1, 1, 1, 0, 1]"
      ]
     },
     "execution_count": 36,
     "metadata": {},
     "output_type": "execute_result"
    }
   ],
   "source": [
    "real = list(df['Outcome'].head(20))\n",
    "real"
   ]
  },
  {
   "cell_type": "code",
   "execution_count": 37,
   "id": "9af2311a",
   "metadata": {
    "execution": {
     "iopub.execute_input": "2022-12-24T18:33:40.779111Z",
     "iopub.status.busy": "2022-12-24T18:33:40.778681Z",
     "iopub.status.idle": "2022-12-24T18:33:40.791699Z",
     "shell.execute_reply": "2022-12-24T18:33:40.790493Z"
    },
    "papermill": {
     "duration": 0.034076,
     "end_time": "2022-12-24T18:33:40.794577",
     "exception": false,
     "start_time": "2022-12-24T18:33:40.760501",
     "status": "completed"
    },
    "tags": []
   },
   "outputs": [
    {
     "data": {
      "text/html": [
       "<div>\n",
       "<style scoped>\n",
       "    .dataframe tbody tr th:only-of-type {\n",
       "        vertical-align: middle;\n",
       "    }\n",
       "\n",
       "    .dataframe tbody tr th {\n",
       "        vertical-align: top;\n",
       "    }\n",
       "\n",
       "    .dataframe thead th {\n",
       "        text-align: right;\n",
       "    }\n",
       "</style>\n",
       "<table border=\"1\" class=\"dataframe\">\n",
       "  <thead>\n",
       "    <tr style=\"text-align: right;\">\n",
       "      <th></th>\n",
       "      <th>Real</th>\n",
       "      <th>Prediction</th>\n",
       "    </tr>\n",
       "  </thead>\n",
       "  <tbody>\n",
       "    <tr>\n",
       "      <th>0</th>\n",
       "      <td>1</td>\n",
       "      <td>1.0</td>\n",
       "    </tr>\n",
       "    <tr>\n",
       "      <th>1</th>\n",
       "      <td>0</td>\n",
       "      <td>0.0</td>\n",
       "    </tr>\n",
       "    <tr>\n",
       "      <th>2</th>\n",
       "      <td>1</td>\n",
       "      <td>1.0</td>\n",
       "    </tr>\n",
       "    <tr>\n",
       "      <th>3</th>\n",
       "      <td>0</td>\n",
       "      <td>0.0</td>\n",
       "    </tr>\n",
       "    <tr>\n",
       "      <th>4</th>\n",
       "      <td>1</td>\n",
       "      <td>1.0</td>\n",
       "    </tr>\n",
       "    <tr>\n",
       "      <th>5</th>\n",
       "      <td>0</td>\n",
       "      <td>0.0</td>\n",
       "    </tr>\n",
       "    <tr>\n",
       "      <th>6</th>\n",
       "      <td>1</td>\n",
       "      <td>1.0</td>\n",
       "    </tr>\n",
       "    <tr>\n",
       "      <th>7</th>\n",
       "      <td>0</td>\n",
       "      <td>0.0</td>\n",
       "    </tr>\n",
       "    <tr>\n",
       "      <th>8</th>\n",
       "      <td>1</td>\n",
       "      <td>0.0</td>\n",
       "    </tr>\n",
       "    <tr>\n",
       "      <th>9</th>\n",
       "      <td>1</td>\n",
       "      <td>1.0</td>\n",
       "    </tr>\n",
       "    <tr>\n",
       "      <th>10</th>\n",
       "      <td>0</td>\n",
       "      <td>0.0</td>\n",
       "    </tr>\n",
       "    <tr>\n",
       "      <th>11</th>\n",
       "      <td>1</td>\n",
       "      <td>1.0</td>\n",
       "    </tr>\n",
       "    <tr>\n",
       "      <th>12</th>\n",
       "      <td>0</td>\n",
       "      <td>0.0</td>\n",
       "    </tr>\n",
       "    <tr>\n",
       "      <th>13</th>\n",
       "      <td>1</td>\n",
       "      <td>0.0</td>\n",
       "    </tr>\n",
       "    <tr>\n",
       "      <th>14</th>\n",
       "      <td>1</td>\n",
       "      <td>1.0</td>\n",
       "    </tr>\n",
       "    <tr>\n",
       "      <th>15</th>\n",
       "      <td>1</td>\n",
       "      <td>1.0</td>\n",
       "    </tr>\n",
       "    <tr>\n",
       "      <th>16</th>\n",
       "      <td>1</td>\n",
       "      <td>1.0</td>\n",
       "    </tr>\n",
       "    <tr>\n",
       "      <th>17</th>\n",
       "      <td>1</td>\n",
       "      <td>1.0</td>\n",
       "    </tr>\n",
       "    <tr>\n",
       "      <th>18</th>\n",
       "      <td>0</td>\n",
       "      <td>0.0</td>\n",
       "    </tr>\n",
       "    <tr>\n",
       "      <th>19</th>\n",
       "      <td>1</td>\n",
       "      <td>0.0</td>\n",
       "    </tr>\n",
       "  </tbody>\n",
       "</table>\n",
       "</div>"
      ],
      "text/plain": [
       "    Real  Prediction\n",
       "0      1         1.0\n",
       "1      0         0.0\n",
       "2      1         1.0\n",
       "3      0         0.0\n",
       "4      1         1.0\n",
       "5      0         0.0\n",
       "6      1         1.0\n",
       "7      0         0.0\n",
       "8      1         0.0\n",
       "9      1         1.0\n",
       "10     0         0.0\n",
       "11     1         1.0\n",
       "12     0         0.0\n",
       "13     1         0.0\n",
       "14     1         1.0\n",
       "15     1         1.0\n",
       "16     1         1.0\n",
       "17     1         1.0\n",
       "18     0         0.0\n",
       "19     1         0.0"
      ]
     },
     "execution_count": 37,
     "metadata": {},
     "output_type": "execute_result"
    }
   ],
   "source": [
    "# Real Data comparing to prediction of model\n",
    "pd.DataFrame({\"Real\": real, \"Prediction\": pred})"
   ]
  },
  {
   "cell_type": "code",
   "execution_count": 38,
   "id": "3a4c522a",
   "metadata": {
    "execution": {
     "iopub.execute_input": "2022-12-24T18:33:40.830495Z",
     "iopub.status.busy": "2022-12-24T18:33:40.830054Z",
     "iopub.status.idle": "2022-12-24T18:33:40.845545Z",
     "shell.execute_reply": "2022-12-24T18:33:40.844421Z"
    },
    "papermill": {
     "duration": 0.03637,
     "end_time": "2022-12-24T18:33:40.848091",
     "exception": false,
     "start_time": "2022-12-24T18:33:40.811721",
     "status": "completed"
    },
    "tags": []
   },
   "outputs": [
    {
     "data": {
      "text/html": [
       "<div>\n",
       "<style scoped>\n",
       "    .dataframe tbody tr th:only-of-type {\n",
       "        vertical-align: middle;\n",
       "    }\n",
       "\n",
       "    .dataframe tbody tr th {\n",
       "        vertical-align: top;\n",
       "    }\n",
       "\n",
       "    .dataframe thead th {\n",
       "        text-align: right;\n",
       "    }\n",
       "</style>\n",
       "<table border=\"1\" class=\"dataframe\">\n",
       "  <thead>\n",
       "    <tr style=\"text-align: right;\">\n",
       "      <th></th>\n",
       "      <th>Age</th>\n",
       "      <th>BMI</th>\n",
       "      <th>Pregnancies</th>\n",
       "      <th>Insulin</th>\n",
       "      <th>DiabetesPedigreeFunction</th>\n",
       "      <th>Glucose</th>\n",
       "    </tr>\n",
       "  </thead>\n",
       "  <tbody>\n",
       "    <tr>\n",
       "      <th>0</th>\n",
       "      <td>70</td>\n",
       "      <td>34</td>\n",
       "      <td>6</td>\n",
       "      <td>79</td>\n",
       "      <td>0.5</td>\n",
       "      <td>170</td>\n",
       "    </tr>\n",
       "    <tr>\n",
       "      <th>1</th>\n",
       "      <td>22</td>\n",
       "      <td>30</td>\n",
       "      <td>0</td>\n",
       "      <td>0</td>\n",
       "      <td>0.2</td>\n",
       "      <td>190</td>\n",
       "    </tr>\n",
       "  </tbody>\n",
       "</table>\n",
       "</div>"
      ],
      "text/plain": [
       "   Age  BMI  Pregnancies  Insulin  DiabetesPedigreeFunction  Glucose\n",
       "0   70   34            6       79                       0.5      170\n",
       "1   22   30            0        0                       0.2      190"
      ]
     },
     "execution_count": 38,
     "metadata": {},
     "output_type": "execute_result"
    }
   ],
   "source": [
    "# Give new data for two women \n",
    "female2=pd.DataFrame.from_dict({'Age':[70,22],\n",
    "           'BMI':[34,30],\n",
    "          'Pregnancies':[6, 0],\n",
    "           'Insulin': [79, 0],\n",
    "           'DiabetesPedigreeFunction': [0.5,0.2],\n",
    "           'Glucose': [170, 190]\n",
    "          })\n",
    "female2"
   ]
  },
  {
   "cell_type": "code",
   "execution_count": 39,
   "id": "8c2f4b82",
   "metadata": {
    "execution": {
     "iopub.execute_input": "2022-12-24T18:33:40.884850Z",
     "iopub.status.busy": "2022-12-24T18:33:40.884441Z",
     "iopub.status.idle": "2022-12-24T18:33:40.894851Z",
     "shell.execute_reply": "2022-12-24T18:33:40.893719Z"
    },
    "papermill": {
     "duration": 0.031889,
     "end_time": "2022-12-24T18:33:40.897258",
     "exception": false,
     "start_time": "2022-12-24T18:33:40.865369",
     "status": "completed"
    },
    "tags": []
   },
   "outputs": [
    {
     "data": {
      "text/plain": [
       "array([1., 1.])"
      ]
     },
     "execution_count": 39,
     "metadata": {},
     "output_type": "execute_result"
    }
   ],
   "source": [
    "model.predict(female2)"
   ]
  }
 ],
 "metadata": {
  "kernelspec": {
   "display_name": "Python 3",
   "language": "python",
   "name": "python3"
  },
  "language_info": {
   "codemirror_mode": {
    "name": "ipython",
    "version": 3
   },
   "file_extension": ".py",
   "mimetype": "text/x-python",
   "name": "python",
   "nbconvert_exporter": "python",
   "pygments_lexer": "ipython3",
   "version": "3.7.12"
  },
  "papermill": {
   "default_parameters": {},
   "duration": 16.933689,
   "end_time": "2022-12-24T18:33:41.636066",
   "environment_variables": {},
   "exception": null,
   "input_path": "__notebook__.ipynb",
   "output_path": "__notebook__.ipynb",
   "parameters": {},
   "start_time": "2022-12-24T18:33:24.702377",
   "version": "2.3.4"
  }
 },
 "nbformat": 4,
 "nbformat_minor": 5
}
